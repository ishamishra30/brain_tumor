{
 "cells": [
  {
   "cell_type": "markdown",
   "id": "ed5dabe6",
   "metadata": {
    "papermill": {
     "duration": 0.004965,
     "end_time": "2023-02-15T10:42:20.367344",
     "exception": false,
     "start_time": "2023-02-15T10:42:20.362379",
     "status": "completed"
    },
    "tags": []
   },
   "source": [
    "# **Import all required Libraries**"
   ]
  },
  {
   "cell_type": "code",
   "execution_count": 1,
   "id": "168877ae",
   "metadata": {
    "execution": {
     "iopub.execute_input": "2023-02-15T10:42:20.377222Z",
     "iopub.status.busy": "2023-02-15T10:42:20.376496Z",
     "iopub.status.idle": "2023-02-15T10:42:26.347180Z",
     "shell.execute_reply": "2023-02-15T10:42:26.346204Z"
    },
    "papermill": {
     "duration": 5.978457,
     "end_time": "2023-02-15T10:42:26.349928",
     "exception": false,
     "start_time": "2023-02-15T10:42:20.371471",
     "status": "completed"
    },
    "tags": []
   },
   "outputs": [],
   "source": [
    "import os\n",
    "import imageio.v2\n",
    "import numpy as np\n",
    "import pandas as pd\n",
    "import matplotlib.pyplot as plt\n",
    "from PIL import Image\n",
    "import cv2\n",
    "import tensorflow as tf\n",
    "from tensorflow import keras\n",
    "from scipy import misc\n",
    "from sklearn.model_selection import train_test_split\n",
    "from sklearn.preprocessing import LabelEncoder\n",
    "from keras.preprocessing.image import ImageDataGenerator\n",
    "from keras.utils import np_utils\n",
    "from keras.models import Sequential\n",
    "from keras.layers import Conv2D, MaxPooling2D, Flatten, Dense, Dropout, Activation\n",
    "from tensorflow.keras.optimizers import Adam"
   ]
  },
  {
   "cell_type": "markdown",
   "id": "22f45b00",
   "metadata": {
    "papermill": {
     "duration": 0.004187,
     "end_time": "2023-02-15T10:42:26.358713",
     "exception": false,
     "start_time": "2023-02-15T10:42:26.354526",
     "status": "completed"
    },
    "tags": []
   },
   "source": [
    "# Load the dataset and define paths for training and testing"
   ]
  },
  {
   "cell_type": "code",
   "execution_count": 2,
   "id": "472530b6",
   "metadata": {
    "execution": {
     "iopub.execute_input": "2023-02-15T10:42:26.368307Z",
     "iopub.status.busy": "2023-02-15T10:42:26.367808Z",
     "iopub.status.idle": "2023-02-15T10:43:02.515999Z",
     "shell.execute_reply": "2023-02-15T10:43:02.514906Z"
    },
    "papermill": {
     "duration": 36.155986,
     "end_time": "2023-02-15T10:43:02.518605",
     "exception": false,
     "start_time": "2023-02-15T10:42:26.362619",
     "status": "completed"
    },
    "tags": []
   },
   "outputs": [],
   "source": [
    "path_train = '/content/drive/MyDrive/Brain_tumor/archive/Training/'\n",
    "path_test = '/content/drive/MyDrive/Brain_tumor/archive/Testing'\n",
    "\n",
    "# initialize lists to store the image data, paths, and labels\n",
    "data = []\n",
    "y = []\n",
    "\n",
    "# loop through the directories and files in the training data path\n",
    "for r, d, f in os.walk(path_train):\n",
    "    for file in f:\n",
    "        if '.jpg' in file:\n",
    "            \n",
    "            path = os.path.join(r, file)\n",
    "            \n",
    "            if 'glioma_tumor' in r:\n",
    "                y.append(3)\n",
    "            elif 'meningioma_tumor' in r:\n",
    "                y.append(2)\n",
    "            elif 'pituitary_tumor' in r:\n",
    "                y.append(1)\n",
    "            elif 'no_tumor' in r:\n",
    "                y.append(0)\n",
    "            # load the image using PIL, resize it to 128x128, and append it to the data list\n",
    "            img = Image.open(path)\n",
    "            img = img.resize((128, 128))\n",
    "            img = np.array(img)\n",
    "            if img.shape == (128, 128, 3):\n",
    "                data.append(np.array(img))\n",
    "\n",
    "# loop through the directories and files in the testing data path\n",
    "for r, d, f in os.walk(path_test):\n",
    "    for file in f:\n",
    "        if '.jpg' in file:\n",
    "            # if the file is an image file, append its path to the paths_test list\n",
    "            path = os.path.join(r, file)\n",
    "            # use the parent directory to determine the label for the image and append it to the y list\n",
    "            if 'glioma_tumor' in r:\n",
    "                y.append(3)\n",
    "            elif 'meningioma_tumor' in r:\n",
    "                y.append(2)\n",
    "            elif 'pituitary_tumor' in r:\n",
    "                y.append(1)\n",
    "            elif 'no_tumor' in r:\n",
    "                y.append(0)\n",
    "            # load the image using PIL, resize it to 128x128, and append it to the data list\n",
    "            img = Image.open(path)\n",
    "            img = img.resize((128, 128))\n",
    "            img = np.array(img)\n",
    "            if img.shape == (128, 128, 3):\n",
    "                data.append(np.array(img))\n"
   ]
  },
  {
   "cell_type": "code",
   "execution_count": 3,
   "id": "8b060198",
   "metadata": {
    "execution": {
     "iopub.execute_input": "2023-02-15T10:43:02.528274Z",
     "iopub.status.busy": "2023-02-15T10:43:02.527986Z",
     "iopub.status.idle": "2023-02-15T10:43:02.589848Z",
     "shell.execute_reply": "2023-02-15T10:43:02.588570Z"
    },
    "papermill": {
     "duration": 0.070276,
     "end_time": "2023-02-15T10:43:02.593199",
     "exception": false,
     "start_time": "2023-02-15T10:43:02.522923",
     "status": "completed"
    },
    "tags": []
   },
   "outputs": [
    {
     "name": "stdout",
     "output_type": "stream",
     "text": [
      "(3264, 128, 128, 3)\n",
      "(3264, 4)\n"
     ]
    }
   ],
   "source": [
    "# convert y and data to a numpy array and also y to one-hot encode the labels\n",
    "data = np.array(data)\n",
    "y = np.array(y)\n",
    "y = np_utils.to_categorical(y)\n",
    "print(data.shape)\n",
    "print(y.shape)"
   ]
  },
  {
   "cell_type": "code",
   "execution_count": 4,
   "id": "dabea22b",
   "metadata": {
    "execution": {
     "iopub.execute_input": "2023-02-15T10:43:02.602962Z",
     "iopub.status.busy": "2023-02-15T10:43:02.602610Z",
     "iopub.status.idle": "2023-02-15T10:43:02.824599Z",
     "shell.execute_reply": "2023-02-15T10:43:02.823481Z"
    },
    "papermill": {
     "duration": 0.230017,
     "end_time": "2023-02-15T10:43:02.827455",
     "exception": false,
     "start_time": "2023-02-15T10:43:02.597438",
     "status": "completed"
    },
    "tags": []
   },
   "outputs": [],
   "source": [
    "data= data.astype('float32')\n",
    "data/=255"
   ]
  },
  {
   "cell_type": "code",
   "execution_count": 5,
   "id": "1d716c8d",
   "metadata": {
    "execution": {
     "iopub.execute_input": "2023-02-15T10:43:02.837648Z",
     "iopub.status.busy": "2023-02-15T10:43:02.837361Z",
     "iopub.status.idle": "2023-02-15T10:43:03.061410Z",
     "shell.execute_reply": "2023-02-15T10:43:03.060737Z"
    },
    "papermill": {
     "duration": 0.231505,
     "end_time": "2023-02-15T10:43:03.063440",
     "exception": false,
     "start_time": "2023-02-15T10:43:02.831935",
     "status": "completed"
    },
    "tags": []
   },
   "outputs": [
    {
     "name": "stdout",
     "output_type": "stream",
     "text": [
      "AxesImage(54,36;334.8x217.44)\n"
     ]
    },
    {
     "data": {
      "image/png": "[encoded data removed]",
      "text/plain": [
       "<Figure size 432x288 with 1 Axes>"
      ]
     },
     "metadata": {
      "needs_background": "light"
     },
     "output_type": "display_data"
    }
   ],
   "source": [
    "#To check the data\n",
    "\n",
    "print(plt.imshow(data[233]))"
   ]
  },
  {
   "cell_type": "markdown",
   "id": "7ca13861",
   "metadata": {
    "papermill": {
     "duration": 0.004692,
     "end_time": "2023-02-15T10:43:03.073270",
     "exception": false,
     "start_time": "2023-02-15T10:43:03.068578",
     "status": "completed"
    },
    "tags": []
   },
   "source": [
    "# Splitting data to train and test"
   ]
  },
  {
   "cell_type": "code",
   "execution_count": 6,
   "id": "d44f93c3",
   "metadata": {
    "execution": {
     "iopub.execute_input": "2023-02-15T10:43:03.083420Z",
     "iopub.status.busy": "2023-02-15T10:43:03.083124Z",
     "iopub.status.idle": "2023-02-15T10:43:03.262457Z",
     "shell.execute_reply": "2023-02-15T10:43:03.261346Z"
    },
    "papermill": {
     "duration": 0.187346,
     "end_time": "2023-02-15T10:43:03.265232",
     "exception": false,
     "start_time": "2023-02-15T10:43:03.077886",
     "status": "completed"
    },
    "tags": []
   },
   "outputs": [],
   "source": [
    "# Split the data into train and test sets\n",
    "X_train, X_test,y_train, y_test= train_test_split(data, y, test_size= 0.2 , shuffle = True, random_state = 42)"
   ]
  },
  {
   "cell_type": "markdown",
   "id": "0e38a699",
   "metadata": {
    "papermill": {
     "duration": 0.004678,
     "end_time": "2023-02-15T10:43:03.274906",
     "exception": false,
     "start_time": "2023-02-15T10:43:03.270228",
     "status": "completed"
    },
    "tags": []
   },
   "source": [
    "# Defining the model"
   ]
  },
  {
   "cell_type": "code",
   "execution_count": 7,
   "id": "a9051ece",
   "metadata": {
    "execution": {
     "iopub.execute_input": "2023-02-15T10:43:03.286527Z",
     "iopub.status.busy": "2023-02-15T10:43:03.285445Z",
     "iopub.status.idle": "2023-02-15T10:43:06.034123Z",
     "shell.execute_reply": "2023-02-15T10:43:06.032608Z"
    },
    "papermill": {
     "duration": 2.757407,
     "end_time": "2023-02-15T10:43:06.036827",
     "exception": false,
     "start_time": "2023-02-15T10:43:03.279420",
     "status": "completed"
    },
    "tags": []
   },
   "outputs": [
    {
     "name": "stderr",
     "output_type": "stream",
     "text": [
      "2023-02-15 10:43:03.379080: I tensorflow/stream_executor/cuda/cuda_gpu_executor.cc:937] successful NUMA node read from SysFS had negative value (-1), but there must be at least one NUMA node, so returning NUMA node zero\n",
      "2023-02-15 10:43:03.468108: I tensorflow/stream_executor/cuda/cuda_gpu_executor.cc:937] successful NUMA node read from SysFS had negative value (-1), but there must be at least one NUMA node, so returning NUMA node zero\n",
      "2023-02-15 10:43:03.468881: I tensorflow/stream_executor/cuda/cuda_gpu_executor.cc:937] successful NUMA node read from SysFS had negative value (-1), but there must be at least one NUMA node, so returning NUMA node zero\n",
      "2023-02-15 10:43:03.470079: I tensorflow/core/platform/cpu_feature_guard.cc:142] This TensorFlow binary is optimized with oneAPI Deep Neural Network Library (oneDNN) to use the following CPU instructions in performance-critical operations:  AVX2 AVX512F FMA\n",
      "To enable them in other operations, rebuild TensorFlow with the appropriate compiler flags.\n",
      "2023-02-15 10:43:03.470403: I tensorflow/stream_executor/cuda/cuda_gpu_executor.cc:937] successful NUMA node read from SysFS had negative value (-1), but there must be at least one NUMA node, so returning NUMA node zero\n",
      "2023-02-15 10:43:03.471140: I tensorflow/stream_executor/cuda/cuda_gpu_executor.cc:937] successful NUMA node read from SysFS had negative value (-1), but there must be at least one NUMA node, so returning NUMA node zero\n",
      "2023-02-15 10:43:03.471834: I tensorflow/stream_executor/cuda/cuda_gpu_executor.cc:937] successful NUMA node read from SysFS had negative value (-1), but there must be at least one NUMA node, so returning NUMA node zero\n",
      "2023-02-15 10:43:05.539759: I tensorflow/stream_executor/cuda/cuda_gpu_executor.cc:937] successful NUMA node read from SysFS had negative value (-1), but there must be at least one NUMA node, so returning NUMA node zero\n",
      "2023-02-15 10:43:05.540606: I tensorflow/stream_executor/cuda/cuda_gpu_executor.cc:937] successful NUMA node read from SysFS had negative value (-1), but there must be at least one NUMA node, so returning NUMA node zero\n",
      "2023-02-15 10:43:05.541305: I tensorflow/stream_executor/cuda/cuda_gpu_executor.cc:937] successful NUMA node read from SysFS had negative value (-1), but there must be at least one NUMA node, so returning NUMA node zero\n",
      "2023-02-15 10:43:05.541978: I tensorflow/core/common_runtime/gpu/gpu_device.cc:1510] Created device /job:localhost/replica:0/task:0/device:GPU:0 with 15401 MB memory:  -> device: 0, name: Tesla P100-PCIE-16GB, pci bus id: 0000:00:04.0, compute capability: 6.0\n"
     ]
    }
   ],
   "source": [
    "\n",
    "model = Sequential()\n",
    "\n",
    "# Adding first Conv2D layer with 32 filters and 2x2 kernel size and 'same' padding\n",
    "model.add(Conv2D(32, (2, 2), padding='same', input_shape=(128,128,3)))\n",
    "model.add(Activation('relu'))\n",
    "\n",
    "# Adding second Conv2D layer with 32 filters and 3x3 kernel size\n",
    "model.add(Conv2D(32, (2, 2)))\n",
    "model.add(Activation('relu'))\n",
    "\n",
    "# Adding Max Pooling layer with 2x2 pool size\n",
    "model.add(MaxPooling2D(pool_size=(2, 2)))\n",
    "\n",
    "# Adding Dropout layer with 25% dropout rate\n",
    "model.add(Dropout(0.2))\n",
    "\n",
    "# Adding third Conv2D layer with 64 filters and 3x3 kernel size and 'same' padding\n",
    "model.add(Conv2D(128, (2, 2), padding='same'))\n",
    "model.add(Activation('relu'))\n",
    "\n",
    "# Adding fourth Conv2D layer with 64 filters and 3x3 kernel size\n",
    "model.add(Conv2D(64, (3, 3)))\n",
    "model.add(Activation('relu'))\n",
    "\n",
    "# Adding Max Pooling layer with 2x2 pool size\n",
    "model.add(MaxPooling2D(pool_size=(2, 2)))\n",
    "\n",
    "# Adding Dropout layer with 25% dropout rate\n",
    "model.add(Dropout(0.25))\n",
    "\n",
    "# Flattening the output from the previous layer\n",
    "model.add(Flatten())\n",
    "\n",
    "# Adding a dense layer with 128 neurons\n",
    "model.add(Dense(128))\n",
    "model.add(Activation('relu'))\n",
    "\n",
    "# Adding another dropout layer with 50% dropout rate\n",
    "model.add(Dropout(0.5))\n",
    "\n",
    "# Adding a dense layer with 64 neurons\n",
    "model.add(Dense(64))\n",
    "model.add(Activation('relu'))\n",
    "\n",
    "# Adding the output layer with 4 neurons and softmax activation\n",
    "model.add(Dense(4, Activation('softmax')))\n"
   ]
  },
  {
   "cell_type": "code",
   "execution_count": 8,
   "id": "960ba472",
   "metadata": {
    "execution": {
     "iopub.execute_input": "2023-02-15T10:43:06.048270Z",
     "iopub.status.busy": "2023-02-15T10:43:06.047967Z",
     "iopub.status.idle": "2023-02-15T10:43:06.058547Z",
     "shell.execute_reply": "2023-02-15T10:43:06.057711Z"
    },
    "papermill": {
     "duration": 0.018632,
     "end_time": "2023-02-15T10:43:06.060592",
     "exception": false,
     "start_time": "2023-02-15T10:43:06.041960",
     "status": "completed"
    },
    "tags": []
   },
   "outputs": [
    {
     "name": "stdout",
     "output_type": "stream",
     "text": [
      "Model: \"sequential\"\n",
      "_________________________________________________________________\n",
      "Layer (type)                 Output Shape              Param #   \n",
      "=================================================================\n",
      "conv2d (Conv2D)              (None, 128, 128, 32)      416       \n",
      "_________________________________________________________________\n",
      "activation (Activation)      (None, 128, 128, 32)      0         \n",
      "_________________________________________________________________\n",
      "conv2d_1 (Conv2D)            (None, 127, 127, 32)      4128      \n",
      "_________________________________________________________________\n",
      "activation_1 (Activation)    (None, 127, 127, 32)      0         \n",
      "_________________________________________________________________\n",
      "max_pooling2d (MaxPooling2D) (None, 63, 63, 32)        0         \n",
      "_________________________________________________________________\n",
      "dropout (Dropout)            (None, 63, 63, 32)        0         \n",
      "_________________________________________________________________\n",
      "conv2d_2 (Conv2D)            (None, 63, 63, 128)       16512     \n",
      "_________________________________________________________________\n",
      "activation_2 (Activation)    (None, 63, 63, 128)       0         \n",
      "_________________________________________________________________\n",
      "conv2d_3 (Conv2D)            (None, 61, 61, 64)        73792     \n",
      "_________________________________________________________________\n",
      "activation_3 (Activation)    (None, 61, 61, 64)        0         \n",
      "_________________________________________________________________\n",
      "max_pooling2d_1 (MaxPooling2 (None, 30, 30, 64)        0         \n",
      "_________________________________________________________________\n",
      "dropout_1 (Dropout)          (None, 30, 30, 64)        0         \n",
      "_________________________________________________________________\n",
      "flatten (Flatten)            (None, 57600)             0         \n",
      "_________________________________________________________________\n",
      "dense (Dense)                (None, 128)               7372928   \n",
      "_________________________________________________________________\n",
      "activation_4 (Activation)    (None, 128)               0         \n",
      "_________________________________________________________________\n",
      "dropout_2 (Dropout)          (None, 128)               0         \n",
      "_________________________________________________________________\n",
      "dense_1 (Dense)              (None, 64)                8256      \n",
      "_________________________________________________________________\n",
      "activation_5 (Activation)    (None, 64)                0         \n",
      "_________________________________________________________________\n",
      "dense_2 (Dense)              (None, 4)                 260       \n",
      "=================================================================\n",
      "Total params: 7,476,292\n",
      "Trainable params: 7,476,292\n",
      "Non-trainable params: 0\n",
      "_________________________________________________________________\n",
      "None\n"
     ]
    }
   ],
   "source": [
    "print(model.summary())"
   ]
  },
  {
   "cell_type": "markdown",
   "id": "cb0b5eee",
   "metadata": {
    "papermill": {
     "duration": 0.004543,
     "end_time": "2023-02-15T10:43:06.070345",
     "exception": false,
     "start_time": "2023-02-15T10:43:06.065802",
     "status": "completed"
    },
    "tags": []
   },
   "source": [
    " # Compile the model"
   ]
  },
  {
   "cell_type": "code",
   "execution_count": 9,
   "id": "f9944bdd",
   "metadata": {
    "execution": {
     "iopub.execute_input": "2023-02-15T10:43:06.082766Z",
     "iopub.status.busy": "2023-02-15T10:43:06.081753Z",
     "iopub.status.idle": "2023-02-15T10:43:48.911074Z",
     "shell.execute_reply": "2023-02-15T10:43:48.909704Z"
    },
    "papermill": {
     "duration": 42.838486,
     "end_time": "2023-02-15T10:43:48.913560",
     "exception": false,
     "start_time": "2023-02-15T10:43:06.075074",
     "status": "completed"
    },
    "tags": []
   },
   "outputs": [
    {
     "name": "stderr",
     "output_type": "stream",
     "text": [
      "2023-02-15 10:43:07.208220: I tensorflow/compiler/mlir/mlir_graph_optimization_pass.cc:185] None of the MLIR Optimization Passes are enabled (registered 2)\n"
     ]
    },
    {
     "name": "stdout",
     "output_type": "stream",
     "text": [
      "Epoch 1/15\n"
     ]
    },
    {
     "name": "stderr",
     "output_type": "stream",
     "text": [
      "2023-02-15 10:43:08.760934: I tensorflow/stream_executor/cuda/cuda_dnn.cc:369] Loaded cuDNN version 8005\n"
     ]
    },
    {
     "name": "stdout",
     "output_type": "stream",
     "text": [
      "53/53 [==============================] - 10s 49ms/step - loss: 1.2739 - accuracy: 0.4182 - val_loss: 1.1845 - val_accuracy: 0.4946\n",
      "Epoch 2/15\n",
      "53/53 [==============================] - 2s 38ms/step - loss: 1.1411 - accuracy: 0.4944 - val_loss: 1.0888 - val_accuracy: 0.6248\n",
      "Epoch 3/15\n",
      "53/53 [==============================] - 2s 37ms/step - loss: 1.0060 - accuracy: 0.5703 - val_loss: 0.9470 - val_accuracy: 0.6156\n",
      "Epoch 4/15\n",
      "53/53 [==============================] - 2s 37ms/step - loss: 0.9148 - accuracy: 0.6063 - val_loss: 0.8748 - val_accuracy: 0.6478\n",
      "Epoch 5/15\n",
      "53/53 [==============================] - 2s 37ms/step - loss: 0.8346 - accuracy: 0.6538 - val_loss: 0.8403 - val_accuracy: 0.6662\n",
      "Epoch 6/15\n",
      "53/53 [==============================] - 2s 37ms/step - loss: 0.7759 - accuracy: 0.6733 - val_loss: 0.7511 - val_accuracy: 0.6968\n",
      "Epoch 7/15\n",
      "53/53 [==============================] - 2s 38ms/step - loss: 0.7046 - accuracy: 0.6982 - val_loss: 0.7035 - val_accuracy: 0.7090\n",
      "Epoch 8/15\n",
      "53/53 [==============================] - 2s 38ms/step - loss: 0.6551 - accuracy: 0.7258 - val_loss: 0.6609 - val_accuracy: 0.7213\n",
      "Epoch 9/15\n",
      "53/53 [==============================] - 2s 40ms/step - loss: 0.6024 - accuracy: 0.7614 - val_loss: 0.6299 - val_accuracy: 0.7366\n",
      "Epoch 10/15\n",
      "53/53 [==============================] - 2s 37ms/step - loss: 0.5265 - accuracy: 0.7874 - val_loss: 0.5737 - val_accuracy: 0.7841\n",
      "Epoch 11/15\n",
      "53/53 [==============================] - 2s 38ms/step - loss: 0.4998 - accuracy: 0.8024 - val_loss: 0.5758 - val_accuracy: 0.7825\n",
      "Epoch 12/15\n",
      "53/53 [==============================] - 2s 37ms/step - loss: 0.4759 - accuracy: 0.8112 - val_loss: 0.4793 - val_accuracy: 0.8193\n",
      "Epoch 13/15\n",
      "53/53 [==============================] - 2s 38ms/step - loss: 0.4364 - accuracy: 0.8269 - val_loss: 0.4655 - val_accuracy: 0.8254\n",
      "Epoch 14/15\n",
      "53/53 [==============================] - 2s 38ms/step - loss: 0.3952 - accuracy: 0.8518 - val_loss: 0.5426 - val_accuracy: 0.8070\n",
      "Epoch 15/15\n",
      "53/53 [==============================] - 2s 38ms/step - loss: 0.3658 - accuracy: 0.8579 - val_loss: 0.5148 - val_accuracy: 0.8147\n"
     ]
    }
   ],
   "source": [
    "opt = Adam(learning_rate=0.0001) # Set the learning rate to 0.0001\n",
    "model.compile(loss='categorical_crossentropy', optimizer=opt, metrics=['accuracy'])\n",
    "\n",
    "# Fit the model and save the history\n",
    "history = model.fit(X_train, y_train, batch_size=50, epochs=15, validation_data=(X_test, y_test), verbose=1)\n"
   ]
  },
  {
   "cell_type": "markdown",
   "id": "ee0fd4cc",
   "metadata": {
    "papermill": {
     "duration": 0.026767,
     "end_time": "2023-02-15T10:43:48.968288",
     "exception": false,
     "start_time": "2023-02-15T10:43:48.941521",
     "status": "completed"
    },
    "tags": []
   },
   "source": [
    "# Evaluation"
   ]
  },
  {
   "cell_type": "code",
   "execution_count": 10,
   "id": "a75c350d",
   "metadata": {
    "execution": {
     "iopub.execute_input": "2023-02-15T10:43:49.024432Z",
     "iopub.status.busy": "2023-02-15T10:43:49.023405Z",
     "iopub.status.idle": "2023-02-15T10:43:49.766601Z",
     "shell.execute_reply": "2023-02-15T10:43:49.765446Z"
    },
    "papermill": {
     "duration": 0.773644,
     "end_time": "2023-02-15T10:43:49.768795",
     "exception": false,
     "start_time": "2023-02-15T10:43:48.995151",
     "status": "completed"
    },
    "tags": []
   },
   "outputs": [
    {
     "name": "stdout",
     "output_type": "stream",
     "text": [
      "21/21 [==============================] - 0s 13ms/step - loss: 0.5148 - accuracy: 0.8147\n",
      "Test loss: 0.5147616267204285\n",
      "Test accuracy: 0.8147013783454895\n"
     ]
    }
   ],
   "source": [
    "loss, accuracy = model.evaluate(X_test, y_test)\n",
    "print('Test loss:', loss)\n",
    "print('Test accuracy:', accuracy)\n"
   ]
  },
  {
   "cell_type": "markdown",
   "id": "fa6b00b5",
   "metadata": {
    "papermill": {
     "duration": 0.027354,
     "end_time": "2023-02-15T10:43:49.823912",
     "exception": false,
     "start_time": "2023-02-15T10:43:49.796558",
     "status": "completed"
    },
    "tags": []
   },
   "source": [
    "# Graph plot"
   ]
  },
  {
   "cell_type": "code",
   "execution_count": 11,
   "id": "c3f5f43d",
   "metadata": {
    "execution": {
     "iopub.execute_input": "2023-02-15T10:43:49.881250Z",
     "iopub.status.busy": "2023-02-15T10:43:49.879206Z",
     "iopub.status.idle": "2023-02-15T10:43:50.331039Z",
     "shell.execute_reply": "2023-02-15T10:43:50.330005Z"
    },
    "papermill": {
     "duration": 0.482925,
     "end_time": "2023-02-15T10:43:50.333451",
     "exception": false,
     "start_time": "2023-02-15T10:43:49.850526",
     "status": "completed"
    },
    "tags": []
   },
   "outputs": [
    {
     "data": {
      "image/png": "[encoded data removed]",
      "text/plain": [
       "<Figure size 432x288 with 1 Axes>"
      ]
     },
     "metadata": {
      "needs_background": "light"
     },
     "output_type": "display_data"
    },
    {
     "data": {
      "image/png": "[encoded data removed]",
      "text/plain": [
       "<Figure size 432x288 with 1 Axes>"
      ]
     },
     "metadata": {
      "needs_background": "light"
     },
     "output_type": "display_data"
    }
   ],
   "source": [
    "# Plot the training history for both loss and accuracy\n",
    "import matplotlib.pyplot as plt\n",
    "\n",
    "# Plot the loss\n",
    "plt.plot(history.history['loss'], label='train')\n",
    "plt.plot(history.history['val_loss'], label='test')\n",
    "plt.title('Model Loss')\n",
    "plt.ylabel('loss')\n",
    "plt.xlabel('epoch')\n",
    "plt.legend()\n",
    "plt.show()\n",
    "\n",
    "# Plot the accuracy\n",
    "plt.plot(history.history['accuracy'], label='train')\n",
    "plt.plot(history.history['val_accuracy'], label='test')\n",
    "plt.title('Model Accuracy')\n",
    "plt.ylabel('accuracy')\n",
    "plt.xlabel('epoch')\n",
    "plt.legend()\n",
    "plt.show()\n"
   ]
  },
  {
   "cell_type": "code",
   "execution_count": null,
   "id": "965bc6c1",
   "metadata": {
    "papermill": {
     "duration": 0.027555,
     "end_time": "2023-02-15T10:43:50.388540",
     "exception": false,
     "start_time": "2023-02-15T10:43:50.360985",
     "status": "completed"
    },
    "tags": []
   },
   "outputs": [],
   "source": []
  }
 ],
 "metadata": {
  "kernelspec": {
   "display_name": "Python 3 (ipykernel)",
   "language": "python",
   "name": "python3"
  },
  "language_info": {
   "codemirror_mode": {
    "name": "ipython",
    "version": 3
   },
   "file_extension": ".py",
   "mimetype": "text/x-python",
   "name": "python",
   "nbconvert_exporter": "python",
   "pygments_lexer": "ipython3",
   "version": "3.9.7"
  },
  "papermill": {
   "default_parameters": {},
   "duration": 101.326645,
   "end_time": "2023-02-15T10:43:54.045090",
   "environment_variables": {},
   "exception": null,
   "input_path": "__notebook__.ipynb",
   "output_path": "__notebook__.ipynb",
   "parameters": {},
   "start_time": "2023-02-15T10:42:12.718445",
   "version": "2.3.4"
  }
 },
 "nbformat": 4,
 "nbformat_minor": 5
}
